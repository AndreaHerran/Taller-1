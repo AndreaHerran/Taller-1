{
  "nbformat": 4,
  "nbformat_minor": 0,
  "metadata": {
    "colab": {
      "provenance": [],
      "authorship_tag": "ABX9TyOjLh9B0GjG7qhxoSljx3d8",
      "include_colab_link": true
    },
    "kernelspec": {
      "name": "python3",
      "display_name": "Python 3"
    },
    "language_info": {
      "name": "python"
    }
  },
  "cells": [
    {
      "cell_type": "markdown",
      "metadata": {
        "id": "view-in-github",
        "colab_type": "text"
      },
      "source": [
        "<a href=\"https://colab.research.google.com/github/AndreaHerran/Taller-1/blob/main/taller_n1.ipynb\" target=\"_parent\"><img src=\"https://colab.research.google.com/assets/colab-badge.svg\" alt=\"Open In Colab\"/></a>"
      ]
    },
    {
      "cell_type": "markdown",
      "source": [
        "1) Realice un programa donde se soliciten dos números al usuario, después se de como resultado el residuo y el cociente de la división entre n1 y n2."
      ],
      "metadata": {
        "id": "jKOYMxJXddL3"
      }
    },
    {
      "cell_type": "code",
      "source": [
        "n1=int(input('ingrese un numero: '))\n",
        "n2=int(input('ingrese un numero: '))\n",
        "co=n1//n2\n",
        "re=n1%n2\n",
        "print(f\"el residuo es {re}\")\n",
        "print(f\"el cosiente es {co}\")"
      ],
      "metadata": {
        "colab": {
          "base_uri": "https://localhost:8080/"
        },
        "id": "VbMysYWQddoW",
        "outputId": "2a180169-7ed3-4559-d391-81c2add37014"
      },
      "execution_count": null,
      "outputs": [
        {
          "output_type": "stream",
          "name": "stdout",
          "text": [
            "ingrese un numero: 20\n",
            "ingrese un numero: 5\n",
            "el residuo es 0\n",
            "el cosiente es 4\n"
          ]
        }
      ]
    },
    {
      "cell_type": "markdown",
      "source": [
        "2) Realice un programa que calcule el índice de masa corporal de una persona, donde le solicite al usuario la estatura en cm y el peso en Kg. Después imprima como resultado el índice de masa corporal mediante un mensaje que diga “Su IMC es valor” redondeado con dos decimales. "
      ],
      "metadata": {
        "id": "DObqVuqEdqdv"
      }
    },
    {
      "cell_type": "code",
      "source": [
        "estatura=int(input('ingrese su estatura en cm: '))\n",
        "peso=int(input('ingrese su peso en kg: '))\n",
        "IMC=peso/(estatura)**2\n",
        "print(f\"Su IMC es {IMC:.2f} \" )"
      ],
      "metadata": {
        "colab": {
          "base_uri": "https://localhost:8080/"
        },
        "id": "q0eaoQ2ldyNJ",
        "outputId": "d07c5c2c-d473-4378-e606-3c08805f19f0"
      },
      "execution_count": null,
      "outputs": [
        {
          "output_type": "stream",
          "name": "stdout",
          "text": [
            "ingrese su estatura en cm: 154\n",
            "ingrese su peso en kg: 55\n",
            "Su IMC es 0.00 \n"
          ]
        }
      ]
    },
    {
      "cell_type": "markdown",
      "source": [
        "3) Realice un programa donde se solicite al usuario escribir el precio final de un artículo o producto, con el que después calculará e imprimirá en pantalla el valor del IVA y el valor bruto (precio antes de IVA) del artículo o producto. "
      ],
      "metadata": {
        "id": "9-amYe77hJq4"
      }
    },
    {
      "cell_type": "code",
      "source": [
        "preciofinal=float(input('ingrese el precio final de su compra: '))\n",
        "SIVA=1.19\n",
        "IVA=19\n",
        "valorbruto=preciofinal/SIVA\n",
        "valorIVA=valorbruto*(IVA/100)\n",
        "print(f\"el valor del iva del producto es de {valorIVA:.3f} y el del precio bruto es de {valorbruto:.3f}\")\n"
      ],
      "metadata": {
        "colab": {
          "base_uri": "https://localhost:8080/"
        },
        "id": "Qs7rX2D9hJSd",
        "outputId": "d4d048ef-c373-4a31-94b6-0cda93767664"
      },
      "execution_count": null,
      "outputs": [
        {
          "output_type": "stream",
          "name": "stdout",
          "text": [
            "ingrese el precio final de su compra: 10.000\n",
            "el valor del iva del producto es de 1.597 y el del precio bruto es de 8.403\n"
          ]
        }
      ]
    },
    {
      "cell_type": "markdown",
      "source": [
        "4) Realice un programa que permita calcular el costo anual del consumo de combustible de un vehículo, si el usuario ingresa la distancia recorrida (Km) anual, el consumo de combustible (L / 100Km) anual y el costo promedio anual del combustible por litros recorridos ($ / L) "
      ],
      "metadata": {
        "id": "zFbeeh2SfbmP"
      }
    },
    {
      "cell_type": "code",
      "source": [
        "dr=int(input('ingrese la distacia recorrida: '))\n",
        "cc=int(input('ingrese el consumo de combustible anual: '))\n",
        "cp=float(input('ingrese el costo promedio anual del combustible: '))\n",
        "\n",
        "la=dr*cc/100\n",
        "ca=la*cp\n",
        "print(f\"El costo anual del consumo de combustible es de $ {ca}\")"
      ],
      "metadata": {
        "colab": {
          "base_uri": "https://localhost:8080/"
        },
        "id": "DiRQRnW5oKkZ",
        "outputId": "2a93b2c8-7577-4c3f-e3a9-57637b58b5af"
      },
      "execution_count": null,
      "outputs": [
        {
          "output_type": "stream",
          "name": "stdout",
          "text": [
            "ingrese la distacia recorrida: 12000\n",
            "ingrese el consumo de combustible anual: 5\n",
            "ingrese el costo promedio anual del combustible: 0.72\n",
            "El costo anual del consumo de combustible es de $ 432.0\n"
          ]
        }
      ]
    }
  ]
}