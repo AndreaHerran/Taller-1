{
  "nbformat": 4,
  "nbformat_minor": 0,
  "metadata": {
    "colab": {
      "name": "Taller-1",
      "provenance": [],
      "authorship_tag": "ABX9TyMntU6YBzgZV5KUTbc2BW/n",
      "include_colab_link": true
    },
    "kernelspec": {
      "name": "python3",
      "display_name": "Python 3"
    },
    "language_info": {
      "name": "python"
    }
  },
  "cells": [
    {
      "cell_type": "markdown",
      "metadata": {
        "id": "view-in-github",
        "colab_type": "text"
      },
      "source": [
        "<a href=\"https://colab.research.google.com/github/AndreaHerran/Taller-1/blob/main/Taller_1.ipynb\" target=\"_parent\"><img src=\"https://colab.research.google.com/assets/colab-badge.svg\" alt=\"Open In Colab\"/></a>"
      ]
    },
    {
      "cell_type": "code",
      "source": [
        "import csv #Importar biblioteca para crear textos\n",
        "l_paises=open(\"l_paises.csv\",\"w\")#Creacion del texto\n",
        "l_paises.write(\"Colombia.\\n\")\n",
        "l_paises.write(\"Mexico.\\n\")\n",
        "l_paises .write(\"Turquía.\\n\")\n",
        "l_paises.write(\"Polonia.\\n\")\n",
        "l_paises.write(\"serbia.\\n\")\n",
        "l_paises.write(\"dinamarca.\\n\")\n",
        "l_paises.write(\"holada.\\n\")\n",
        "l_paises.write(\"Alemania.\\n\")\n",
        "l_paises.close()#Finalizacion del texto \n",
        "l_paises=\"l_paises.csv\"\n",
        "with open(l_paises, \"r\") as paises:\n",
        "    for linea in paises:#salto de linea\n",
        "        lista= linea.rstrip()\n",
        "        separador=\",\"\n",
        "        lista= lista.split(\",\")\n",
        "        p=lista[0]#Orden de la lista\n",
        "        print(p.capitalize())#Impresion de la lista con la primera letra en mayuscula\n"
      ],
      "metadata": {
        "id": "xXnlUJRKfrrt"
      },
      "execution_count": null,
      "outputs": []
    },
    {
      "cell_type": "code",
      "source": [
        "def f_calBin (s_num):\n",
        "    if s_num  <=  0:\n",
        "        return  \"0\"#Si la variable es menor o igual se guarda 0\n",
        "    s_bin  = \"\"#Contador\n",
        "    mul=1 \n",
        "    while s_num > 0 :\n",
        "      resi  =  int ( s_num  %  2)#Guardar el residuo de la division\n",
        "      s_num =  int ( s_num /  2 )\n",
        "      s_bin =  str( resi ) + s_bin #Se suma lo que se guarde en el contador al residuo \n",
        "    return s_bin\n",
        "         \n",
        "print(f_calBin(16))\n",
        "print(f_calBin(4))\n",
        "print(f_calBin(10))\n",
        "print(f_calBin(1.25))"
      ],
      "metadata": {
        "id": "wMvM9MsoCLiZ"
      },
      "execution_count": null,
      "outputs": []
    },
    {
      "cell_type": "code",
      "source": [
        "import numpy as np\n",
        "import statistics\n",
        "def f_stat (l_valores):\n",
        "  l_valores=[10,20,30,40]\n",
        "  s_mean=0\n",
        "  s_median=0\n",
        "  s_mode=0\n",
        "  A = sum(l_valores) / len(l_valores)\n",
        "  total=0.0\n",
        "  for M in l:\n",
        "      total += round((M - A) ** 2,3)\n",
        "  s_mean= total / (len(l))\n",
        "  s_mean= round(s_mean**(1/2),3)\n",
        " \n",
        "  return A,s_mean\n",
        "  print(f_stat)\n",
        "  print(statistics.median(f_stat))"
      ],
      "metadata": {
        "id": "tT6UtoJCzLEd"
      },
      "execution_count": 20,
      "outputs": []
    }
  ]
}